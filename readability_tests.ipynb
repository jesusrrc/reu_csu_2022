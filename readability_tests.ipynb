{
 "cells": [
  {
   "cell_type": "code",
   "execution_count": 15,
   "metadata": {},
   "outputs": [
    {
     "name": "stdout",
     "output_type": "stream",
     "text": [
      "Requirement already satisfied: textstat in c:\\users\\jesus\\anaconda3\\lib\\site-packages (0.7.3)\n",
      "Requirement already satisfied: pyphen in c:\\users\\jesus\\anaconda3\\lib\\site-packages (from textstat) (0.12.0)\n",
      "csv file: iot_clean.csv\n",
      "FK Grade =  17.2\n",
      "FK Ease =  8.27\n"
     ]
    }
   ],
   "source": [
    "#########################################################################################\n",
    "#\n",
    "# REU@CSU 2022http://localhost:8888/notebooks/OneDrive/2021-2022%20(Summer)/Final%20Deliverables/Code/Untitled.ipynb#\n",
    "#\n",
    "# Author:      Jesus Rafael Rijo Candelario (Mercer University)\n",
    "# Date:        06/01/2022\n",
    "# Advisor:     Dr. lydia Ray.\n",
    "#\n",
    "# Description: Jupyter notebook to perform various readibility tests on a given\n",
    "#              dataset of annotated entries of IoT privacy policies. Reability\n",
    "#              help us quantify the difficulty to read a given text.\n",
    "#\n",
    "#########################################################################################\n",
    "\n",
    "# Importing modules.\n",
    "import sys\n",
    "!{sys.executable} -m pip install textstat\n",
    "import csv\n",
    "import re\n",
    "from nltk.corpus import stopwords    \n",
    "import textstat\n",
    "    \n",
    "# Getting file's content.\n",
    "filename = input(\"csv file: \")\n",
    "annotations = list(csv.reader(open(filename)))\n",
    "\n",
    "# Creating variable to store combined entries.\n",
    "myText=\"\"\n",
    "\n",
    "# Appending entries into a single string, ignoring\n",
    "# empty entries.\n",
    "for line in annotations:\n",
    "    if line != []:\n",
    "        #add to list\n",
    "        myText = myText + line[0]\n",
    "        myText = myText + \". \"\n",
    "\n",
    "# Printing grades.\n",
    "print(\"FK Grade = \", textstat.flesch_kincaid_grade(myText) )\n",
    "print(\"FK Ease  = \", textstat.flesch_reading_ease(myText) )"
   ]
  }
 ],
 "metadata": {
  "kernelspec": {
   "display_name": "Python 3",
   "language": "python",
   "name": "python3"
  }
 },
 "nbformat": 4,
 "nbformat_minor": 4
}
